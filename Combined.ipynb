{
 "cells": [
  {
   "cell_type": "markdown",
   "id": "ab565536-6b80-428c-a236-78e797f122f5",
   "metadata": {},
   "source": [
    "Install All Applicable Packages"
   ]
  },
  {
   "cell_type": "code",
   "execution_count": 2,
   "id": "19526fad-5d71-4a22-ba0f-762d07646f82",
   "metadata": {},
   "outputs": [
    {
     "name": "stdout",
     "output_type": "stream",
     "text": [
      "Requirement already satisfied: pandas in c:\\users\\15514\\onedrive\\documents\\fall 2024\\archive_final\\tf_env\\lib\\site-packages (2.2.3)\n",
      "Requirement already satisfied: numpy>=1.23.2 in c:\\users\\15514\\onedrive\\documents\\fall 2024\\archive_final\\tf_env\\lib\\site-packages (from pandas) (2.0.2)\n",
      "Requirement already satisfied: python-dateutil>=2.8.2 in c:\\users\\15514\\onedrive\\documents\\fall 2024\\archive_final\\tf_env\\lib\\site-packages (from pandas) (2.9.0.post0)\n",
      "Requirement already satisfied: pytz>=2020.1 in c:\\users\\15514\\onedrive\\documents\\fall 2024\\archive_final\\tf_env\\lib\\site-packages (from pandas) (2024.2)\n",
      "Requirement already satisfied: tzdata>=2022.7 in c:\\users\\15514\\onedrive\\documents\\fall 2024\\archive_final\\tf_env\\lib\\site-packages (from pandas) (2024.2)\n",
      "Requirement already satisfied: six>=1.5 in c:\\users\\15514\\onedrive\\documents\\fall 2024\\archive_final\\tf_env\\lib\\site-packages (from python-dateutil>=2.8.2->pandas) (1.16.0)\n",
      "Requirement already satisfied: numpy in c:\\users\\15514\\onedrive\\documents\\fall 2024\\archive_final\\tf_env\\lib\\site-packages (2.0.2)\n",
      "Requirement already satisfied: scikit-learn in c:\\users\\15514\\onedrive\\documents\\fall 2024\\archive_final\\tf_env\\lib\\site-packages (1.5.2)\n",
      "Requirement already satisfied: numpy>=1.19.5 in c:\\users\\15514\\onedrive\\documents\\fall 2024\\archive_final\\tf_env\\lib\\site-packages (from scikit-learn) (2.0.2)\n",
      "Requirement already satisfied: scipy>=1.6.0 in c:\\users\\15514\\onedrive\\documents\\fall 2024\\archive_final\\tf_env\\lib\\site-packages (from scikit-learn) (1.14.1)\n",
      "Requirement already satisfied: joblib>=1.2.0 in c:\\users\\15514\\onedrive\\documents\\fall 2024\\archive_final\\tf_env\\lib\\site-packages (from scikit-learn) (1.4.2)\n",
      "Requirement already satisfied: threadpoolctl>=3.1.0 in c:\\users\\15514\\onedrive\\documents\\fall 2024\\archive_final\\tf_env\\lib\\site-packages (from scikit-learn) (3.5.0)\n",
      "Requirement already satisfied: matplotlib in c:\\users\\15514\\onedrive\\documents\\fall 2024\\archive_final\\tf_env\\lib\\site-packages (3.9.2)\n",
      "Requirement already satisfied: contourpy>=1.0.1 in c:\\users\\15514\\onedrive\\documents\\fall 2024\\archive_final\\tf_env\\lib\\site-packages (from matplotlib) (1.3.0)\n",
      "Requirement already satisfied: cycler>=0.10 in c:\\users\\15514\\onedrive\\documents\\fall 2024\\archive_final\\tf_env\\lib\\site-packages (from matplotlib) (0.12.1)\n",
      "Requirement already satisfied: fonttools>=4.22.0 in c:\\users\\15514\\onedrive\\documents\\fall 2024\\archive_final\\tf_env\\lib\\site-packages (from matplotlib) (4.54.1)\n",
      "Requirement already satisfied: kiwisolver>=1.3.1 in c:\\users\\15514\\onedrive\\documents\\fall 2024\\archive_final\\tf_env\\lib\\site-packages (from matplotlib) (1.4.7)\n",
      "Requirement already satisfied: numpy>=1.23 in c:\\users\\15514\\onedrive\\documents\\fall 2024\\archive_final\\tf_env\\lib\\site-packages (from matplotlib) (2.0.2)\n",
      "Requirement already satisfied: packaging>=20.0 in c:\\users\\15514\\onedrive\\documents\\fall 2024\\archive_final\\tf_env\\lib\\site-packages (from matplotlib) (24.1)\n",
      "Requirement already satisfied: pillow>=8 in c:\\users\\15514\\onedrive\\documents\\fall 2024\\archive_final\\tf_env\\lib\\site-packages (from matplotlib) (11.0.0)\n",
      "Requirement already satisfied: pyparsing>=2.3.1 in c:\\users\\15514\\onedrive\\documents\\fall 2024\\archive_final\\tf_env\\lib\\site-packages (from matplotlib) (3.2.0)\n",
      "Requirement already satisfied: python-dateutil>=2.7 in c:\\users\\15514\\onedrive\\documents\\fall 2024\\archive_final\\tf_env\\lib\\site-packages (from matplotlib) (2.9.0.post0)\n",
      "Requirement already satisfied: six>=1.5 in c:\\users\\15514\\onedrive\\documents\\fall 2024\\archive_final\\tf_env\\lib\\site-packages (from python-dateutil>=2.7->matplotlib) (1.16.0)\n",
      "Requirement already satisfied: tensorflow in c:\\users\\15514\\onedrive\\documents\\fall 2024\\archive_final\\tf_env\\lib\\site-packages (2.18.0)\n",
      "Requirement already satisfied: tensorflow-intel==2.18.0 in c:\\users\\15514\\onedrive\\documents\\fall 2024\\archive_final\\tf_env\\lib\\site-packages (from tensorflow) (2.18.0)\n",
      "Requirement already satisfied: absl-py>=1.0.0 in c:\\users\\15514\\onedrive\\documents\\fall 2024\\archive_final\\tf_env\\lib\\site-packages (from tensorflow-intel==2.18.0->tensorflow) (2.1.0)\n",
      "Requirement already satisfied: astunparse>=1.6.0 in c:\\users\\15514\\onedrive\\documents\\fall 2024\\archive_final\\tf_env\\lib\\site-packages (from tensorflow-intel==2.18.0->tensorflow) (1.6.3)\n",
      "Requirement already satisfied: flatbuffers>=24.3.25 in c:\\users\\15514\\onedrive\\documents\\fall 2024\\archive_final\\tf_env\\lib\\site-packages (from tensorflow-intel==2.18.0->tensorflow) (24.3.25)\n",
      "Requirement already satisfied: gast!=0.5.0,!=0.5.1,!=0.5.2,>=0.2.1 in c:\\users\\15514\\onedrive\\documents\\fall 2024\\archive_final\\tf_env\\lib\\site-packages (from tensorflow-intel==2.18.0->tensorflow) (0.6.0)\n",
      "Requirement already satisfied: google-pasta>=0.1.1 in c:\\users\\15514\\onedrive\\documents\\fall 2024\\archive_final\\tf_env\\lib\\site-packages (from tensorflow-intel==2.18.0->tensorflow) (0.2.0)\n",
      "Requirement already satisfied: libclang>=13.0.0 in c:\\users\\15514\\onedrive\\documents\\fall 2024\\archive_final\\tf_env\\lib\\site-packages (from tensorflow-intel==2.18.0->tensorflow) (18.1.1)\n",
      "Requirement already satisfied: opt-einsum>=2.3.2 in c:\\users\\15514\\onedrive\\documents\\fall 2024\\archive_final\\tf_env\\lib\\site-packages (from tensorflow-intel==2.18.0->tensorflow) (3.4.0)\n",
      "Requirement already satisfied: packaging in c:\\users\\15514\\onedrive\\documents\\fall 2024\\archive_final\\tf_env\\lib\\site-packages (from tensorflow-intel==2.18.0->tensorflow) (24.1)\n",
      "Requirement already satisfied: protobuf!=4.21.0,!=4.21.1,!=4.21.2,!=4.21.3,!=4.21.4,!=4.21.5,<6.0.0dev,>=3.20.3 in c:\\users\\15514\\onedrive\\documents\\fall 2024\\archive_final\\tf_env\\lib\\site-packages (from tensorflow-intel==2.18.0->tensorflow) (5.28.3)\n",
      "Requirement already satisfied: requests<3,>=2.21.0 in c:\\users\\15514\\onedrive\\documents\\fall 2024\\archive_final\\tf_env\\lib\\site-packages (from tensorflow-intel==2.18.0->tensorflow) (2.32.3)\n",
      "Requirement already satisfied: setuptools in c:\\users\\15514\\onedrive\\documents\\fall 2024\\archive_final\\tf_env\\lib\\site-packages (from tensorflow-intel==2.18.0->tensorflow) (65.5.0)\n",
      "Requirement already satisfied: six>=1.12.0 in c:\\users\\15514\\onedrive\\documents\\fall 2024\\archive_final\\tf_env\\lib\\site-packages (from tensorflow-intel==2.18.0->tensorflow) (1.16.0)\n",
      "Requirement already satisfied: termcolor>=1.1.0 in c:\\users\\15514\\onedrive\\documents\\fall 2024\\archive_final\\tf_env\\lib\\site-packages (from tensorflow-intel==2.18.0->tensorflow) (2.5.0)\n",
      "Requirement already satisfied: typing-extensions>=3.6.6 in c:\\users\\15514\\onedrive\\documents\\fall 2024\\archive_final\\tf_env\\lib\\site-packages (from tensorflow-intel==2.18.0->tensorflow) (4.12.2)\n",
      "Requirement already satisfied: wrapt>=1.11.0 in c:\\users\\15514\\onedrive\\documents\\fall 2024\\archive_final\\tf_env\\lib\\site-packages (from tensorflow-intel==2.18.0->tensorflow) (1.16.0)\n",
      "Requirement already satisfied: grpcio<2.0,>=1.24.3 in c:\\users\\15514\\onedrive\\documents\\fall 2024\\archive_final\\tf_env\\lib\\site-packages (from tensorflow-intel==2.18.0->tensorflow) (1.67.1)\n",
      "Requirement already satisfied: tensorboard<2.19,>=2.18 in c:\\users\\15514\\onedrive\\documents\\fall 2024\\archive_final\\tf_env\\lib\\site-packages (from tensorflow-intel==2.18.0->tensorflow) (2.18.0)\n",
      "Requirement already satisfied: keras>=3.5.0 in c:\\users\\15514\\onedrive\\documents\\fall 2024\\archive_final\\tf_env\\lib\\site-packages (from tensorflow-intel==2.18.0->tensorflow) (3.6.0)\n",
      "Requirement already satisfied: numpy<2.1.0,>=1.26.0 in c:\\users\\15514\\onedrive\\documents\\fall 2024\\archive_final\\tf_env\\lib\\site-packages (from tensorflow-intel==2.18.0->tensorflow) (2.0.2)\n",
      "Requirement already satisfied: h5py>=3.11.0 in c:\\users\\15514\\onedrive\\documents\\fall 2024\\archive_final\\tf_env\\lib\\site-packages (from tensorflow-intel==2.18.0->tensorflow) (3.12.1)\n",
      "Requirement already satisfied: ml-dtypes<0.5.0,>=0.4.0 in c:\\users\\15514\\onedrive\\documents\\fall 2024\\archive_final\\tf_env\\lib\\site-packages (from tensorflow-intel==2.18.0->tensorflow) (0.4.1)\n",
      "Requirement already satisfied: tensorflow-io-gcs-filesystem>=0.23.1 in c:\\users\\15514\\onedrive\\documents\\fall 2024\\archive_final\\tf_env\\lib\\site-packages (from tensorflow-intel==2.18.0->tensorflow) (0.31.0)\n",
      "Requirement already satisfied: wheel<1.0,>=0.23.0 in c:\\users\\15514\\onedrive\\documents\\fall 2024\\archive_final\\tf_env\\lib\\site-packages (from astunparse>=1.6.0->tensorflow-intel==2.18.0->tensorflow) (0.44.0)\n",
      "Requirement already satisfied: rich in c:\\users\\15514\\onedrive\\documents\\fall 2024\\archive_final\\tf_env\\lib\\site-packages (from keras>=3.5.0->tensorflow-intel==2.18.0->tensorflow) (13.9.4)\n",
      "Requirement already satisfied: namex in c:\\users\\15514\\onedrive\\documents\\fall 2024\\archive_final\\tf_env\\lib\\site-packages (from keras>=3.5.0->tensorflow-intel==2.18.0->tensorflow) (0.0.8)\n",
      "Requirement already satisfied: optree in c:\\users\\15514\\onedrive\\documents\\fall 2024\\archive_final\\tf_env\\lib\\site-packages (from keras>=3.5.0->tensorflow-intel==2.18.0->tensorflow) (0.13.0)\n",
      "Requirement already satisfied: charset-normalizer<4,>=2 in c:\\users\\15514\\onedrive\\documents\\fall 2024\\archive_final\\tf_env\\lib\\site-packages (from requests<3,>=2.21.0->tensorflow-intel==2.18.0->tensorflow) (3.4.0)\n",
      "Requirement already satisfied: idna<4,>=2.5 in c:\\users\\15514\\onedrive\\documents\\fall 2024\\archive_final\\tf_env\\lib\\site-packages (from requests<3,>=2.21.0->tensorflow-intel==2.18.0->tensorflow) (3.10)\n",
      "Requirement already satisfied: urllib3<3,>=1.21.1 in c:\\users\\15514\\onedrive\\documents\\fall 2024\\archive_final\\tf_env\\lib\\site-packages (from requests<3,>=2.21.0->tensorflow-intel==2.18.0->tensorflow) (2.2.3)\n",
      "Requirement already satisfied: certifi>=2017.4.17 in c:\\users\\15514\\onedrive\\documents\\fall 2024\\archive_final\\tf_env\\lib\\site-packages (from requests<3,>=2.21.0->tensorflow-intel==2.18.0->tensorflow) (2024.8.30)\n",
      "Requirement already satisfied: markdown>=2.6.8 in c:\\users\\15514\\onedrive\\documents\\fall 2024\\archive_final\\tf_env\\lib\\site-packages (from tensorboard<2.19,>=2.18->tensorflow-intel==2.18.0->tensorflow) (3.7)\n",
      "Requirement already satisfied: tensorboard-data-server<0.8.0,>=0.7.0 in c:\\users\\15514\\onedrive\\documents\\fall 2024\\archive_final\\tf_env\\lib\\site-packages (from tensorboard<2.19,>=2.18->tensorflow-intel==2.18.0->tensorflow) (0.7.2)\n",
      "Requirement already satisfied: werkzeug>=1.0.1 in c:\\users\\15514\\onedrive\\documents\\fall 2024\\archive_final\\tf_env\\lib\\site-packages (from tensorboard<2.19,>=2.18->tensorflow-intel==2.18.0->tensorflow) (3.1.1)\n",
      "Requirement already satisfied: MarkupSafe>=2.1.1 in c:\\users\\15514\\onedrive\\documents\\fall 2024\\archive_final\\tf_env\\lib\\site-packages (from werkzeug>=1.0.1->tensorboard<2.19,>=2.18->tensorflow-intel==2.18.0->tensorflow) (3.0.2)\n",
      "Requirement already satisfied: markdown-it-py>=2.2.0 in c:\\users\\15514\\onedrive\\documents\\fall 2024\\archive_final\\tf_env\\lib\\site-packages (from rich->keras>=3.5.0->tensorflow-intel==2.18.0->tensorflow) (3.0.0)\n",
      "Requirement already satisfied: pygments<3.0.0,>=2.13.0 in c:\\users\\15514\\onedrive\\documents\\fall 2024\\archive_final\\tf_env\\lib\\site-packages (from rich->keras>=3.5.0->tensorflow-intel==2.18.0->tensorflow) (2.18.0)\n",
      "Requirement already satisfied: mdurl~=0.1 in c:\\users\\15514\\onedrive\\documents\\fall 2024\\archive_final\\tf_env\\lib\\site-packages (from markdown-it-py>=2.2.0->rich->keras>=3.5.0->tensorflow-intel==2.18.0->tensorflow) (0.1.2)\n"
     ]
    }
   ],
   "source": [
    "! pip install pandas\n",
    "! pip install numpy\n",
    "! pip install scikit-learn\n",
    "! pip install matplotlib\n",
    "! pip install tensorflow"
   ]
  },
  {
   "cell_type": "markdown",
   "id": "36192b24-3367-4cd8-af1c-fe3a9eaa96b5",
   "metadata": {},
   "source": [
    "Import All Applicable Libraries"
   ]
  },
  {
   "cell_type": "code",
   "execution_count": 1,
   "id": "54c10687-bcfc-4e33-8f77-a9527f0b5ad1",
   "metadata": {},
   "outputs": [],
   "source": [
    "import pandas as pd\n",
    "import numpy as np\n",
    "\n",
    "import matplotlib.pyplot as plt\n",
    "\n",
    "from sklearn.ensemble import RandomForestClassifier\n",
    "from sklearn.neighbors import KNeighborsClassifier\n",
    "from sklearn.metrics import confusion_matrix, roc_auc_score, roc_curve, auc, brier_score_loss\n",
    "from sklearn.model_selection import StratifiedKFold\n",
    "\n",
    "import tensorflow as tf\n",
    "from tensorflow.keras.models import Sequential\n",
    "from tensorflow.keras.layers import Input, GRU, Dense\n",
    "from tensorflow.keras.optimizers import Adam"
   ]
  },
  {
   "cell_type": "markdown",
   "id": "7a21194e-6a77-4897-92ae-9296b6dbbca0",
   "metadata": {},
   "source": [
    "Read Data from Zipped Folder"
   ]
  },
  {
   "cell_type": "code",
   "execution_count": 3,
   "id": "791c5a6b-6d14-488f-af66-0c63a7bbc836",
   "metadata": {},
   "outputs": [],
   "source": [
    "data_csv = f\"./playground-series-s4e2/train_cleaned.csv\"\n",
    "df = pd.read_csv(data_csv)"
   ]
  },
  {
   "cell_type": "markdown",
   "id": "369f674b-97fb-49e9-a0bd-5a603d47c121",
   "metadata": {},
   "source": [
    "Transform Data"
   ]
  },
  {
   "cell_type": "code",
   "execution_count": 8,
   "id": "94ff671d-bea4-4ba2-b06e-74b8ec780d52",
   "metadata": {},
   "outputs": [],
   "source": [
    "# Transform categorical attributes\n",
    "df_encoded = pd.get_dummies(df, columns=['gender', 'family_history_overweight', 'freq_high_cal_food', \n",
    "                                         'alch_in_excess', 'smoker', 'calorie_monitor', \n",
    "                                         'alch_consump', 'mode_of_trans'])\n",
    "# Transform label to binary\n",
    "df_encoded['label'] = df_encoded['label'].apply(lambda x: 1 if x == 'Overweight' else 0)"
   ]
  },
  {
   "cell_type": "markdown",
   "id": "c5afc7ac-1cc4-4d0a-a832-c5002f72ffba",
   "metadata": {},
   "source": [
    "Define attributes vs label"
   ]
  },
  {
   "cell_type": "code",
   "execution_count": 9,
   "id": "c35d106f-2aa0-4a95-b168-ad5086652011",
   "metadata": {},
   "outputs": [],
   "source": [
    "# Drop non-categorical attributes, label, attributes deemed to correlate too closely with label\n",
    "X = df_encoded.drop(columns=['id', 'label', 'label_cat', 'height', 'weight'])\n",
    "y = df_encoded['label']"
   ]
  },
  {
   "cell_type": "markdown",
   "id": "da78e0f3-93b5-4e7f-8393-e78bf4d8a806",
   "metadata": {},
   "source": [
    "Use K-10 Fold"
   ]
  },
  {
   "cell_type": "code",
   "execution_count": 10,
   "id": "de4a8586-1f4f-436e-a788-66ad77d8e424",
   "metadata": {},
   "outputs": [],
   "source": [
    "kf = StratifiedKFold(n_splits=10, shuffle=True, random_state=42)"
   ]
  },
  {
   "cell_type": "code",
   "execution_count": null,
   "id": "8fa1bbdf-7f81-4248-a08a-711d12a51a70",
   "metadata": {},
   "outputs": [],
   "source": []
  }
 ],
 "metadata": {
  "kernelspec": {
   "display_name": "Python 3 (ipykernel)",
   "language": "python",
   "name": "python3"
  },
  "language_info": {
   "codemirror_mode": {
    "name": "ipython",
    "version": 3
   },
   "file_extension": ".py",
   "mimetype": "text/x-python",
   "name": "python",
   "nbconvert_exporter": "python",
   "pygments_lexer": "ipython3",
   "version": "3.11.9"
  }
 },
 "nbformat": 4,
 "nbformat_minor": 5
}
